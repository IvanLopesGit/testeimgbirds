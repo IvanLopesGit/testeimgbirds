{
  "nbformat": 4,
  "nbformat_minor": 0,
  "metadata": {
    "colab": {
      "provenance": []
    },
    "kernelspec": {
      "name": "python3",
      "display_name": "Python 3"
    },
    "language_info": {
      "name": "python"
    },
    "accelerator": "GPU",
    "gpuClass": "standard"
  },
  "cells": [
    {
      "cell_type": "code",
      "source": [
        "!pip install roboflow"
      ],
      "metadata": {
        "id": "RtSu8zyl1D9Y",
        "colab": {
          "base_uri": "https://localhost:8080/",
          "height": 1000
        },
        "outputId": "3562efef-d670-45d9-98a8-eb16b517aa4e"
      },
      "execution_count": 1,
      "outputs": [
        {
          "output_type": "stream",
          "name": "stdout",
          "text": [
            "Looking in indexes: https://pypi.org/simple, https://us-python.pkg.dev/colab-wheels/public/simple/\n",
            "Collecting roboflow\n",
            "  Downloading roboflow-1.0.5-py3-none-any.whl (56 kB)\n",
            "\u001b[2K     \u001b[90m━━━━━━━━━━━━━━━━━━━━━━━━━━━━━━━━━━━━━━━━\u001b[0m \u001b[32m56.2/56.2 kB\u001b[0m \u001b[31m1.8 MB/s\u001b[0m eta \u001b[36m0:00:00\u001b[0m\n",
            "\u001b[?25hCollecting idna==2.10\n",
            "  Downloading idna-2.10-py2.py3-none-any.whl (58 kB)\n",
            "\u001b[2K     \u001b[90m━━━━━━━━━━━━━━━━━━━━━━━━━━━━━━━━━━━━━━━━\u001b[0m \u001b[32m58.8/58.8 kB\u001b[0m \u001b[31m4.1 MB/s\u001b[0m eta \u001b[36m0:00:00\u001b[0m\n",
            "\u001b[?25hRequirement already satisfied: numpy>=1.18.5 in /usr/local/lib/python3.10/dist-packages (from roboflow) (1.22.4)\n",
            "Collecting pyparsing==2.4.7\n",
            "  Downloading pyparsing-2.4.7-py2.py3-none-any.whl (67 kB)\n",
            "\u001b[2K     \u001b[90m━━━━━━━━━━━━━━━━━━━━━━━━━━━━━━━━━━━━━━━━\u001b[0m \u001b[32m67.8/67.8 kB\u001b[0m \u001b[31m4.2 MB/s\u001b[0m eta \u001b[36m0:00:00\u001b[0m\n",
            "\u001b[?25hRequirement already satisfied: Pillow>=7.1.2 in /usr/local/lib/python3.10/dist-packages (from roboflow) (8.4.0)\n",
            "Requirement already satisfied: python-dateutil in /usr/local/lib/python3.10/dist-packages (from roboflow) (2.8.2)\n",
            "Requirement already satisfied: six in /usr/local/lib/python3.10/dist-packages (from roboflow) (1.16.0)\n",
            "Collecting cycler==0.10.0\n",
            "  Downloading cycler-0.10.0-py2.py3-none-any.whl (6.5 kB)\n",
            "Requirement already satisfied: tqdm>=4.41.0 in /usr/local/lib/python3.10/dist-packages (from roboflow) (4.65.0)\n",
            "Collecting wget\n",
            "  Downloading wget-3.2.zip (10 kB)\n",
            "  Preparing metadata (setup.py) ... \u001b[?25l\u001b[?25hdone\n",
            "Collecting python-dotenv\n",
            "  Downloading python_dotenv-1.0.0-py3-none-any.whl (19 kB)\n",
            "Requirement already satisfied: opencv-python>=4.1.2 in /usr/local/lib/python3.10/dist-packages (from roboflow) (4.7.0.72)\n",
            "Collecting requests-toolbelt\n",
            "  Downloading requests_toolbelt-1.0.0-py2.py3-none-any.whl (54 kB)\n",
            "\u001b[2K     \u001b[90m━━━━━━━━━━━━━━━━━━━━━━━━━━━━━━━━━━━━━━━━\u001b[0m \u001b[32m54.5/54.5 kB\u001b[0m \u001b[31m5.0 MB/s\u001b[0m eta \u001b[36m0:00:00\u001b[0m\n",
            "\u001b[?25hRequirement already satisfied: chardet==4.0.0 in /usr/local/lib/python3.10/dist-packages (from roboflow) (4.0.0)\n",
            "Requirement already satisfied: requests in /usr/local/lib/python3.10/dist-packages (from roboflow) (2.27.1)\n",
            "Requirement already satisfied: certifi==2022.12.7 in /usr/local/lib/python3.10/dist-packages (from roboflow) (2022.12.7)\n",
            "Requirement already satisfied: urllib3>=1.26.6 in /usr/local/lib/python3.10/dist-packages (from roboflow) (1.26.15)\n",
            "Requirement already satisfied: PyYAML>=5.3.1 in /usr/local/lib/python3.10/dist-packages (from roboflow) (6.0)\n",
            "Requirement already satisfied: matplotlib in /usr/local/lib/python3.10/dist-packages (from roboflow) (3.7.1)\n",
            "Requirement already satisfied: kiwisolver>=1.3.1 in /usr/local/lib/python3.10/dist-packages (from roboflow) (1.4.4)\n",
            "Requirement already satisfied: fonttools>=4.22.0 in /usr/local/lib/python3.10/dist-packages (from matplotlib->roboflow) (4.39.3)\n",
            "Requirement already satisfied: contourpy>=1.0.1 in /usr/local/lib/python3.10/dist-packages (from matplotlib->roboflow) (1.0.7)\n",
            "Requirement already satisfied: packaging>=20.0 in /usr/local/lib/python3.10/dist-packages (from matplotlib->roboflow) (23.1)\n",
            "Requirement already satisfied: charset-normalizer~=2.0.0 in /usr/local/lib/python3.10/dist-packages (from requests->roboflow) (2.0.12)\n",
            "Building wheels for collected packages: wget\n",
            "  Building wheel for wget (setup.py) ... \u001b[?25l\u001b[?25hdone\n",
            "  Created wheel for wget: filename=wget-3.2-py3-none-any.whl size=9676 sha256=984fcf399f6c111e7b63de3ca127f240752b6b9313d6745cdb10bdff6142bd7d\n",
            "  Stored in directory: /root/.cache/pip/wheels/8b/f1/7f/5c94f0a7a505ca1c81cd1d9208ae2064675d97582078e6c769\n",
            "Successfully built wget\n",
            "Installing collected packages: wget, python-dotenv, pyparsing, idna, cycler, requests-toolbelt, roboflow\n",
            "  Attempting uninstall: pyparsing\n",
            "    Found existing installation: pyparsing 3.0.9\n",
            "    Uninstalling pyparsing-3.0.9:\n",
            "      Successfully uninstalled pyparsing-3.0.9\n",
            "  Attempting uninstall: idna\n",
            "    Found existing installation: idna 3.4\n",
            "    Uninstalling idna-3.4:\n",
            "      Successfully uninstalled idna-3.4\n",
            "  Attempting uninstall: cycler\n",
            "    Found existing installation: cycler 0.11.0\n",
            "    Uninstalling cycler-0.11.0:\n",
            "      Successfully uninstalled cycler-0.11.0\n",
            "Successfully installed cycler-0.10.0 idna-2.10 pyparsing-2.4.7 python-dotenv-1.0.0 requests-toolbelt-1.0.0 roboflow-1.0.5 wget-3.2\n"
          ]
        },
        {
          "output_type": "display_data",
          "data": {
            "application/vnd.colab-display-data+json": {
              "pip_warning": {
                "packages": [
                  "cycler",
                  "pyparsing"
                ]
              }
            }
          },
          "metadata": {}
        }
      ]
    },
    {
      "cell_type": "code",
      "execution_count": 2,
      "metadata": {
        "id": "e1aX2CAfzrTZ"
      },
      "outputs": [],
      "source": [
        "import roboflow\n",
        "from roboflow import Roboflow\n",
        "import os\n",
        "import numpy as np\n",
        "import json\n",
        "import tensorflow as tf\n",
        "from tensorflow.keras.preprocessing.image import ImageDataGenerator\n",
        "from tensorflow.keras.applications.resnet50 import preprocess_input\n",
        "from tensorflow.keras.applications import ResNet50\n",
        "import pandas as pd\n",
        "from sklearn.model_selection import train_test_split\n",
        "from PIL import Image\n",
        "from keras.utils import to_categorical\n",
        "from tensorflow.keras.callbacks import ModelCheckpoint\n",
        "import matplotlib.pyplot as plt\n",
        "from sklearn.metrics import confusion_matrix"
      ]
    },
    {
      "cell_type": "code",
      "source": [
        "rf = Roboflow(api_key=\"dJDF7c8zszBIMe30c1pC\")\n",
        "project = rf.workspace(\"ivan-cvk3z\").project(\"birds-uojom\")\n",
        "dataset = project.version(2).download(\"multiclass\")"
      ],
      "metadata": {
        "colab": {
          "base_uri": "https://localhost:8080/"
        },
        "id": "-V7l2S6v2Cs3",
        "outputId": "915adaab-3b67-4bcb-d7a4-dec49129bfb3"
      },
      "execution_count": 3,
      "outputs": [
        {
          "output_type": "stream",
          "name": "stdout",
          "text": [
            "loading Roboflow workspace...\n",
            "loading Roboflow project...\n",
            "Downloading Dataset Version Zip in birds-2 to multiclass: 100% [17312163 / 17312163] bytes\n"
          ]
        },
        {
          "output_type": "stream",
          "name": "stderr",
          "text": [
            "Extracting Dataset Version Zip to birds-2 in multiclass:: 100%|██████████| 277/277 [00:00<00:00, 507.55it/s]\n"
          ]
        }
      ]
    },
    {
      "cell_type": "code",
      "source": [
        "# lendo o arquivo com os dados\n",
        "df_test = pd.read_csv('/content/birds-2/test/_classes.csv', encoding='utf-8')\n",
        "df_train = pd.read_csv('/content/birds-2/train/_classes.csv', encoding='utf-8')\n",
        "df_valid = pd.read_csv('/content/birds-2/valid/_classes.csv', encoding='utf-8')"
      ],
      "metadata": {
        "id": "KYB3F1Wd_qNw"
      },
      "execution_count": 4,
      "outputs": []
    },
    {
      "cell_type": "code",
      "source": [
        "df_test.columns = ['filename', 'apteryx_australis', 'Birds', 'casuarius_casuarius', 'tinamus_tao']\n",
        "df_train.columns = ['filename', 'apteryx_australis', 'Birds', 'casuarius_casuarius', 'tinamus_tao']\n",
        "df_valid.columns = ['filename', 'apteryx_australis', 'Birds', 'casuarius_casuarius', 'tinamus_tao']"
      ],
      "metadata": {
        "id": "m9XMdNsDDL3j"
      },
      "execution_count": 5,
      "outputs": []
    },
    {
      "cell_type": "code",
      "source": [
        "# removendo a coluna \"birds\"\n",
        "df_test = df_test.drop(columns=['Birds'])\n",
        "df_train = df_train.drop(columns=['Birds'])\n",
        "df_valid = df_valid.drop(columns=['Birds'])\n",
        "\n",
        "# deletando a linha 22 por estar com um dado faltante\n",
        "df_test.drop(22, inplace=True)\n",
        "\n",
        "# juntando os datasets de treino e teste\n",
        "# df = pd.concat([df_train, df_test], ignore_index=True)"
      ],
      "metadata": {
        "id": "w9yw52wjHpvQ"
      },
      "execution_count": 6,
      "outputs": []
    },
    {
      "cell_type": "code",
      "source": [
        "# Ajuste do nome das colunas, estava dando problema para leituras\n",
        "\n",
        "df_train['category'] = ''\n",
        "\n",
        "for index, row in df_train.iterrows():\n",
        "    if row['apteryx_australis'] == 1:\n",
        "        df_train.at[index, 'category'] = 'apteryx_australis'\n",
        "    elif row['casuarius_casuarius'] == 1:\n",
        "        df_train.at[index, 'category'] = 'casuarius_casuarius'\n",
        "    else:\n",
        "        df_train.at[index, 'category'] = 'tinamus_tao'"
      ],
      "metadata": {
        "id": "0yhPAkoNgQtU"
      },
      "execution_count": 7,
      "outputs": []
    },
    {
      "cell_type": "code",
      "source": [
        "# Ajuste do nome das colunas, estava dando problema para leituras\n",
        "\n",
        "df_test['category'] = ''\n",
        "\n",
        "for index, row in df_test.iterrows():\n",
        "    if row['apteryx_australis'] == 1:\n",
        "        df_test.at[index, 'category'] = 'apteryx_australis'\n",
        "    elif row['casuarius_casuarius'] == 1:\n",
        "        df_test.at[index, 'category'] = 'casuarius_casuarius'\n",
        "    else:\n",
        "        df_test.at[index, 'category'] = 'tinamus_tao'"
      ],
      "metadata": {
        "id": "TEoVp59mgUew"
      },
      "execution_count": 8,
      "outputs": []
    },
    {
      "cell_type": "code",
      "source": [
        "# Ajuste do nome das colunas, estava dando problema para leituras\n",
        "\n",
        "df_valid['category'] = ''\n",
        "\n",
        "for index, row in df_valid.iterrows():\n",
        "    if row['apteryx_australis'] == 1:\n",
        "        df_valid.at[index, 'category'] = 'apteryx_australis'\n",
        "    elif row['casuarius_casuarius'] == 1:\n",
        "        df_valid.at[index, 'category'] = 'casuarius_casuarius'\n",
        "    else:\n",
        "        df_valid.at[index, 'category'] = 'tinamus_tao'"
      ],
      "metadata": {
        "id": "gDWeKRPegZEB"
      },
      "execution_count": 9,
      "outputs": []
    },
    {
      "cell_type": "code",
      "source": [
        "# Define as dimensões da imagem e o tamanho do batch\n",
        "img_size = (640, 640)\n",
        "batch_size = 32\n",
        "\n",
        "# Define um gerador de imagens para normalizar e redimensionar as imagens\n",
        "datagen = ImageDataGenerator(preprocessing_function=preprocess_input)"
      ],
      "metadata": {
        "id": "174bPikpbR7H"
      },
      "execution_count": 10,
      "outputs": []
    },
    {
      "cell_type": "code",
      "source": [
        "# Cria um gerador de dados de treinamento a partir do DataFrame\n",
        "train_ds = datagen.flow_from_dataframe(\n",
        "    dataframe=df_train,\n",
        "    directory='/content/birds-2/train',\n",
        "    x_col='filename',\n",
        "    y_col='category',\n",
        "    target_size=img_size,\n",
        "    batch_size=batch_size,\n",
        "    class_mode='categorical',\n",
        ")\n",
        "\n",
        "train_labels = train_ds.labels\n",
        "train_y = to_categorical(train_labels, num_classes=len(train_ds.class_mode))"
      ],
      "metadata": {
        "colab": {
          "base_uri": "https://localhost:8080/"
        },
        "id": "CHkxytQ4oFIV",
        "outputId": "7d2eb12f-b908-475a-e4a5-a5501ebb0162"
      },
      "execution_count": 11,
      "outputs": [
        {
          "output_type": "stream",
          "name": "stdout",
          "text": [
            "Found 187 validated image filenames belonging to 3 classes.\n"
          ]
        }
      ]
    },
    {
      "cell_type": "code",
      "source": [
        "# Cria um gerador de dados de validação a partir do DataFrame\n",
        "valid_ds = datagen.flow_from_dataframe(\n",
        "    dataframe=df_valid,\n",
        "    directory='/content/birds-2/valid',\n",
        "    x_col='filename',\n",
        "    y_col='category',\n",
        "    target_size=img_size,\n",
        "    batch_size=batch_size,\n",
        "    class_mode='categorical',\n",
        ")\n",
        "\n",
        "valid_labels = valid_ds.labels\n",
        "valid_y = to_categorical(valid_labels, num_classes=len(valid_ds.class_mode))"
      ],
      "metadata": {
        "colab": {
          "base_uri": "https://localhost:8080/"
        },
        "id": "9L3Rlk6MoLYC",
        "outputId": "d2a2018f-1109-43be-bdbd-20d954de98ee"
      },
      "execution_count": 12,
      "outputs": [
        {
          "output_type": "stream",
          "name": "stdout",
          "text": [
            "Found 53 validated image filenames belonging to 3 classes.\n"
          ]
        }
      ]
    },
    {
      "cell_type": "code",
      "source": [
        "# Cria um gerador de dados de teste a partir do DataFrame\n",
        "test_ds = datagen.flow_from_dataframe(\n",
        "    dataframe=df_test,\n",
        "    directory='/content/birds-2/test',\n",
        "    x_col='filename',\n",
        "    y_col='category',\n",
        "    target_size=img_size,\n",
        "    batch_size=batch_size,\n",
        "    class_mode='categorical',\n",
        ")\n",
        "\n",
        "test_labels = test_ds.labels\n",
        "test_y = to_categorical(test_labels, num_classes=len(test_ds.class_mode))\n"
      ],
      "metadata": {
        "colab": {
          "base_uri": "https://localhost:8080/"
        },
        "id": "PxYJr6e_oPe0",
        "outputId": "e01b263e-3508-4d93-f841-973d1ca18191"
      },
      "execution_count": 13,
      "outputs": [
        {
          "output_type": "stream",
          "name": "stdout",
          "text": [
            "Found 28 validated image filenames belonging to 3 classes.\n"
          ]
        }
      ]
    },
    {
      "cell_type": "code",
      "source": [
        "# Carrega o modelo ResNet50 pré-treinado\n",
        "base_model = ResNet50(include_top=False, weights='imagenet', input_shape=(img_size[0], img_size[1], 3))\n",
        "\n",
        "# Congela as camadas de base_model para que elas não sejam treinadas novamente\n",
        "for layer in base_model.layers:\n",
        "    layer.trainable = False"
      ],
      "metadata": {
        "id": "zGRjZiC5oT1A",
        "colab": {
          "base_uri": "https://localhost:8080/"
        },
        "outputId": "687cd13f-ceed-43c6-be36-68c72cd8dacf"
      },
      "execution_count": 14,
      "outputs": [
        {
          "output_type": "stream",
          "name": "stdout",
          "text": [
            "Downloading data from https://storage.googleapis.com/tensorflow/keras-applications/resnet/resnet50_weights_tf_dim_ordering_tf_kernels_notop.h5\n",
            "94765736/94765736 [==============================] - 1s 0us/step\n"
          ]
        }
      ]
    },
    {
      "cell_type": "code",
      "source": [
        "# Adiciona camadas adicionais ao modelo\n",
        "x = base_model.output\n",
        "x = tf.keras.layers.GlobalAveragePooling2D()(x)\n",
        "x = tf.keras.layers.Dense(256, activation='relu')(x)\n",
        "x = tf.keras.layers.Dropout(0.5)(x)\n",
        "outputs = tf.keras.layers.Dense(len(df_train['category'].unique()), activation='softmax')(x)\n",
        "model = tf.keras.Model(inputs=base_model.input, outputs=outputs)\n",
        "\n",
        "# Compila o modelo\n",
        "model.compile(optimizer='adam', loss='categorical_crossentropy', metrics=['accuracy'])\n",
        "\n",
        "# Treina o modelo nos dados de treinamento e avalia-o nos dados de validação\n",
        "\n",
        "history = model.fit(train_ds, epochs=10, validation_data=valid_ds)\n",
        "\n",
        "# Salva o history em um arquivo CSV\n",
        "\n",
        "df_history = pd.DataFrame(history.history)\n",
        "df_history.to_csv('history.csv', index=False)"
      ],
      "metadata": {
        "colab": {
          "base_uri": "https://localhost:8080/"
        },
        "id": "4d53v_CwoXf3",
        "outputId": "55fd78a1-45c5-4fbf-941c-a1398520240e"
      },
      "execution_count": 15,
      "outputs": [
        {
          "output_type": "stream",
          "name": "stdout",
          "text": [
            "Epoch 1/10\n",
            "6/6 [==============================] - 45s 4s/step - loss: 1.2241 - accuracy: 0.5187 - val_loss: 0.5112 - val_accuracy: 0.8113\n",
            "Epoch 2/10\n",
            "6/6 [==============================] - 7s 1s/step - loss: 0.5065 - accuracy: 0.7807 - val_loss: 0.4855 - val_accuracy: 0.8491\n",
            "Epoch 3/10\n",
            "6/6 [==============================] - 7s 1s/step - loss: 0.3436 - accuracy: 0.8877 - val_loss: 0.3709 - val_accuracy: 0.8302\n",
            "Epoch 4/10\n",
            "6/6 [==============================] - 7s 1s/step - loss: 0.2588 - accuracy: 0.9358 - val_loss: 0.3069 - val_accuracy: 0.9245\n",
            "Epoch 5/10\n",
            "6/6 [==============================] - 8s 1s/step - loss: 0.2120 - accuracy: 0.9519 - val_loss: 0.2342 - val_accuracy: 0.9245\n",
            "Epoch 6/10\n",
            "6/6 [==============================] - 7s 1s/step - loss: 0.1853 - accuracy: 0.9412 - val_loss: 0.3016 - val_accuracy: 0.9057\n",
            "Epoch 7/10\n",
            "6/6 [==============================] - 7s 1s/step - loss: 0.1305 - accuracy: 0.9572 - val_loss: 0.2089 - val_accuracy: 0.9623\n",
            "Epoch 8/10\n",
            "6/6 [==============================] - 7s 1s/step - loss: 0.1046 - accuracy: 0.9626 - val_loss: 0.2007 - val_accuracy: 0.9434\n",
            "Epoch 9/10\n",
            "6/6 [==============================] - 8s 1s/step - loss: 0.0766 - accuracy: 0.9893 - val_loss: 0.2079 - val_accuracy: 0.9434\n",
            "Epoch 10/10\n",
            "6/6 [==============================] - 7s 1s/step - loss: 0.0949 - accuracy: 0.9572 - val_loss: 0.1826 - val_accuracy: 0.9434\n"
          ]
        }
      ]
    },
    {
      "cell_type": "code",
      "source": [
        "# Salva o modelo em SavedModel format\n",
        "tf.saved_model.save(model, 'meu_modelo_salvo/')"
      ],
      "metadata": {
        "colab": {
          "base_uri": "https://localhost:8080/"
        },
        "id": "A6wH_7LueClN",
        "outputId": "ba124508-e9a3-4242-cecc-7b1acc91b408"
      },
      "execution_count": 16,
      "outputs": [
        {
          "output_type": "stream",
          "name": "stderr",
          "text": [
            "WARNING:absl:Found untraced functions such as _jit_compiled_convolution_op, _jit_compiled_convolution_op, _jit_compiled_convolution_op, _jit_compiled_convolution_op, _jit_compiled_convolution_op while saving (showing 5 of 53). These functions will not be directly callable after loading.\n"
          ]
        }
      ]
    },
    {
      "cell_type": "code",
      "source": [
        "# Avalia o modelo nos dados de teste\n",
        "test_loss, test_acc = model.evaluate(test_ds)\n",
        "print('Test accuracy:', test_acc)\n",
        "print('Test loss:', test_loss)\n"
      ],
      "metadata": {
        "colab": {
          "base_uri": "https://localhost:8080/"
        },
        "id": "8_EUkf7OobJ0",
        "outputId": "6719acd6-75b0-424e-9140-2390a04ed029"
      },
      "execution_count": null,
      "outputs": [
        {
          "output_type": "stream",
          "name": "stdout",
          "text": [
            "1/1 [==============================] - 1s 1s/step - loss: 0.0583 - accuracy: 1.0000\n",
            "Test accuracy: 1.0\n",
            "Test loss: 0.058346349745988846\n"
          ]
        }
      ]
    },
    {
      "cell_type": "code",
      "source": [
        "# Salva as perdas em arrays separados para treino e validação\n",
        "train_loss = history.history['loss']\n",
        "val_loss = history.history['val_loss']\n",
        "\n",
        "# Cria o gráfico\n",
        "plt.plot(train_loss, label='Treino')\n",
        "plt.plot(val_loss, label='Validação')\n",
        "plt.title('Perda ao longo das épocas')\n",
        "plt.xlabel('Épocas')\n",
        "plt.ylabel('Perda')\n",
        "plt.legend()\n",
        "plt.show()"
      ],
      "metadata": {
        "colab": {
          "base_uri": "https://localhost:8080/",
          "height": 474
        },
        "id": "IhuPPFOi_5zi",
        "outputId": "c383c279-e6b6-464e-aaed-7a7914687de2"
      },
      "execution_count": null,
      "outputs": [
        {
          "output_type": "display_data",
          "data": {
            "text/plain": [
              "<Figure size 640x480 with 1 Axes>"
            ],
            "image/png": "[encoded data removed]"
          },
          "metadata": {}
        }
      ]
    },
    {
      "cell_type": "code",
      "source": [
        "# Plota o gráfico de acurácia\n",
        "plt.plot(history.history['accuracy'])\n",
        "plt.plot(history.history['val_accuracy'])\n",
        "plt.title('Acurácia do modelo')\n",
        "plt.ylabel('Acurácia')\n",
        "plt.xlabel('Época')\n",
        "plt.legend(['Treinamento', 'Validação'], loc='upper left')\n",
        "plt.show()"
      ],
      "metadata": {
        "colab": {
          "base_uri": "https://localhost:8080/",
          "height": 474
        },
        "id": "rHnnPDYoAlGK",
        "outputId": "344c8221-4fe7-4f68-df20-70b0870ef31c"
      },
      "execution_count": null,
      "outputs": [
        {
          "output_type": "display_data",
          "data": {
            "text/plain": [
              "<Figure size 640x480 with 1 Axes>"
            ],
            "image/png": "[encoded data removed]"
          },
          "metadata": {}
        }
      ]
    }
  ]
}